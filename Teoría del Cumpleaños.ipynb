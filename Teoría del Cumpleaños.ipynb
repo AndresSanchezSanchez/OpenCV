{
 "cells": [
  {
   "cell_type": "code",
   "execution_count": 3,
   "id": "e37b7a37",
   "metadata": {},
   "outputs": [
    {
     "name": "stdout",
     "output_type": "stream",
     "text": [
      "2001-04-08 10:36:59.331377\n"
     ]
    }
   ],
   "source": [
    "import random\n",
    "from datetime import datetime\n",
    "from collections import Counter\n",
    "\n",
    "inicio = datetime(1942, 1, 1)\n",
    "final =  datetime(2022, 10, 1)\n",
    "\n",
    "random_date = []\n",
    "\n",
    "for i in range(0,230):\n",
    "    random_date.append(inicio + (final - inicio) * random.random())\n",
    "\n",
    "print(random_date[0])"
   ]
  },
  {
   "cell_type": "code",
   "execution_count": 4,
   "id": "af3f3637",
   "metadata": {},
   "outputs": [],
   "source": [
    "def cumpleano(vect):\n",
    "    str_data = []\n",
    "    for i in vect:\n",
    "        str_data.append(str(i)[5:10])\n",
    "    count = Counter(str_data)\n",
    "    \n",
    "    match = {}\n",
    "    for key in count:\n",
    "        value = count[key]\n",
    "        if value !=1:\n",
    "            match[key] = value\n",
    "    return match"
   ]
  },
  {
   "cell_type": "code",
   "execution_count": 5,
   "id": "ef7073ab",
   "metadata": {
    "scrolled": false
   },
   "outputs": [
    {
     "name": "stdout",
     "output_type": "stream",
     "text": [
      "Grupo 1 de cumpleaños repetidos es: \n",
      "{'11-19': 2}\n",
      "Grupo 2 de cumpleaños repetidos es: \n",
      "{'02-01': 2}\n",
      "Grupo 3 de cumpleaños repetidos es: \n",
      "{'05-16': 2}\n",
      "Grupo 4 de cumpleaños repetidos es: \n",
      "{'11-29': 2}\n",
      "Grupo 5 de cumpleaños repetidos es: \n",
      "{'06-04': 2, '02-14': 2}\n",
      "Grupo 6 de cumpleaños repetidos es: \n",
      "{'07-28': 2}\n",
      "Grupo 7 de cumpleaños repetidos es: \n",
      "{'06-17': 2, '03-18': 2}\n",
      "Grupo 8 de cumpleaños repetidos es: \n",
      "{}\n",
      "Grupo 9 de cumpleaños repetidos es: \n",
      "{}\n",
      "Grupo 10 de cumpleaños repetidos es: \n",
      "{'08-05': 2}\n",
      "Grupo 11 de cumpleaños repetidos es: \n",
      "{}\n"
     ]
    }
   ],
   "source": [
    "j = 1\n",
    "for i in range(0,231,23):\n",
    "    match = cumpleano(random_date[i:i+23])\n",
    "    print(\"Grupo {} de cumpleaños repetidos es: \".format(j))\n",
    "    print(match)\n",
    "    j += 1"
   ]
  },
  {
   "cell_type": "code",
   "execution_count": 6,
   "id": "7ada225b",
   "metadata": {},
   "outputs": [],
   "source": [
    "dias = [random_date[i].day for i in range(0,len(random_date))]\n",
    "meses = [random_date[i].month for i in range(0,len(random_date))]"
   ]
  },
  {
   "cell_type": "code",
   "execution_count": null,
   "id": "6523d1ea",
   "metadata": {},
   "outputs": [],
   "source": [
    "class Cumpleaños:\n",
    "    def __init__(self.dias,self.meses):\n",
    "        inicio = datetime(1942, 1, 1)\n",
    "        final =  datetime(2022, 10, 1)\n",
    "\n",
    "        random_date = []\n",
    "\n",
    "        for i in range(0,230):\n",
    "            random_date.append(inicio + (final - inicio) * random.random())\n",
    "        \n",
    "        self.random_date = random_date\n",
    "    \n",
    "    def month():\n",
    "        \n",
    "        "
   ]
  }
 ],
 "metadata": {
  "kernelspec": {
   "display_name": "Python 3 (ipykernel)",
   "language": "python",
   "name": "python3"
  },
  "language_info": {
   "codemirror_mode": {
    "name": "ipython",
    "version": 3
   },
   "file_extension": ".py",
   "mimetype": "text/x-python",
   "name": "python",
   "nbconvert_exporter": "python",
   "pygments_lexer": "ipython3",
   "version": "3.10.6"
  }
 },
 "nbformat": 4,
 "nbformat_minor": 5
}
